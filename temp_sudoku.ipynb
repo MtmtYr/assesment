{
  "nbformat": 4,
  "nbformat_minor": 0,
  "metadata": {
    "colab": {
      "name": "temp_sudoku",
      "provenance": [],
      "authorship_tag": "ABX9TyNOwzCYVmKHTt8jhtvqXuJ7",
      "include_colab_link": true
    },
    "kernelspec": {
      "name": "python3",
      "display_name": "Python 3"
    },
    "language_info": {
      "name": "python"
    }
  },
  "cells": [
    {
      "cell_type": "markdown",
      "metadata": {
        "id": "view-in-github",
        "colab_type": "text"
      },
      "source": [
        "<a href=\"https://colab.research.google.com/github/MtmtYr/assesment/blob/main/temp_sudoku.ipynb\" target=\"_parent\"><img src=\"https://colab.research.google.com/assets/colab-badge.svg\" alt=\"Open In Colab\"/></a>"
      ]
    },
    {
      "cell_type": "code",
      "execution_count": 1,
      "metadata": {
        "id": "wwlxa-RjV_Di"
      },
      "outputs": [],
      "source": [
        "# easy\n",
        "list_sudoku = [\n",
        "               [0, 4, 8, 0, 9, 0, 0, 5, 0],\n",
        "               [0, 0, 0, 7, 4, 5, 2, 1, 0],\n",
        "               [0, 7, 5, 0, 0, 2, 4, 0, 0],\n",
        "               [0, 0, 0, 0, 7, 0, 0, 0, 2],\n",
        "               [7, 0, 6, 4, 0, 9, 0, 0, 0],\n",
        "               [9, 0, 2, 0, 6, 0, 3, 0, 0],\n",
        "               [0, 0, 0, 6, 1, 0, 8, 2, 7],\n",
        "               [0, 1, 3, 0, 5, 0, 6, 4, 9],\n",
        "               [0, 0, 7, 9, 8, 0, 0, 0, 1]]\n",
        "               "
      ]
    },
    {
      "cell_type": "code",
      "source": [
        "list_possible = [i for i in range(1, 10)]"
      ],
      "metadata": {
        "id": "u28aVgwQOCRc"
      },
      "execution_count": 2,
      "outputs": []
    },
    {
      "cell_type": "code",
      "source": [
        "def narrow_ver(x, list_possible, list_sudoku):\n",
        "  list_ver = [list_sudoku[i][x] for i in range(9) if type(list_sudoku[i][x]) is int]\n",
        "  return set(list_possible) - set(list_ver)"
      ],
      "metadata": {
        "id": "4byEtcfEOP0b"
      },
      "execution_count": 3,
      "outputs": []
    },
    {
      "cell_type": "code",
      "source": [
        "def narrow_hor(y, list_possible, list_sudoku):\n",
        "  list_hor = [list_sudoku[y][i] for i in range(9) if type(list_sudoku[y][i]) is int]\n",
        "  return set(list_possible) - set(list_hor)"
      ],
      "metadata": {
        "id": "vuCV3KybPaEc"
      },
      "execution_count": 4,
      "outputs": []
    },
    {
      "cell_type": "code",
      "source": [
        "def narrow_blo(x, y, list_possible, list_sudoku):\n",
        "  index_x = (x // 3) * 3\n",
        "  index_y = (y // 3) * 3\n",
        "  list_blo = [list_sudoku[i][j] for i in range(index_y+3) for j in range(index_x, index_x+3) if type(list_sudoku[i][j]) is int]\n",
        "  return set(list_possible) - set(list_blo)"
      ],
      "metadata": {
        "id": "S9mfpg0sP989"
      },
      "execution_count": 5,
      "outputs": []
    },
    {
      "cell_type": "code",
      "source": [
        "def narrow(x,y, list_possible, list_sudoku):\n",
        "  list_possible = narrow_ver(x, list_possible, list_sudoku)\n",
        "  list_possible = narrow_hor(y, list_possible, list_sudoku)\n",
        "  list_possible = narrow_blo(x, y, list_possible, list_sudoku)\n",
        "  return sorted(list(list_possible))"
      ],
      "metadata": {
        "id": "0xFbAvv_RtLH"
      },
      "execution_count": 6,
      "outputs": []
    },
    {
      "cell_type": "code",
      "source": [
        "def apply_narrow(list_sudoku):\n",
        "  for y in range(9):\n",
        "    for x in range(9):\n",
        "      if list_sudoku[y][x] != 0 and type(list_sudoku[y][x]) is int:\n",
        "        continue\n",
        "      elif list_sudoku[y][x] == 0:\n",
        "        list_sudoku[y][x] = narrow(x, y, list_possible, list_sudoku)\n",
        "      else:\n",
        "        list_sudoku[y][x] = narrow(x, y, list_sudoku[y][x],  list_sudoku)\n",
        "        if len(list_sudoku[y][x]) == 1:\n",
        "          list_sudoku[y][x] = list_sudoku[y][x][0]\n",
        "        return list_sudoku"
      ],
      "metadata": {
        "id": "DdRbIWYLWuiA"
      },
      "execution_count": 7,
      "outputs": []
    },
    {
      "cell_type": "code",
      "source": [
        ""
      ],
      "metadata": {
        "id": "_LrM6JFdcF9Y"
      },
      "execution_count": null,
      "outputs": []
    }
  ]
}